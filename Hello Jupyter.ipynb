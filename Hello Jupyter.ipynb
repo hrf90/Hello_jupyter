{
 "cells": [
  {
   "cell_type": "code",
   "execution_count": 1,
   "id": "c18497b9",
   "metadata": {},
   "outputs": [],
   "source": [
    "# first notebook of the day"
   ]
  },
  {
   "cell_type": "code",
   "execution_count": 2,
   "id": "be57fc73",
   "metadata": {},
   "outputs": [
    {
     "name": "stdout",
     "output_type": "stream",
     "text": [
      "just do it\n"
     ]
    }
   ],
   "source": [
    "print(\"just do it\")"
   ]
  },
  {
   "cell_type": "markdown",
   "id": "6412bc8a",
   "metadata": {},
   "source": []
  },
  {
   "cell_type": "code",
   "execution_count": null,
   "id": "0f6b2f00",
   "metadata": {},
   "outputs": [],
   "source": []
  }
 ],
 "metadata": {
  "kernelspec": {
   "display_name": "Python 3 (ipykernel)",
   "language": "python",
   "name": "python3"
  },
  "language_info": {
   "codemirror_mode": {
    "name": "ipython",
    "version": 3
   },
   "file_extension": ".py",
   "mimetype": "text/x-python",
   "name": "python",
   "nbconvert_exporter": "python",
   "pygments_lexer": "ipython3",
   "version": "3.10.9"
  }
 },
 "nbformat": 4,
 "nbformat_minor": 5
}
